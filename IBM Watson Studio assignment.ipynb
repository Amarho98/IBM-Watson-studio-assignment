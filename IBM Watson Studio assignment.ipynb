{
 "cells": [
  {
   "cell_type": "markdown",
   "id": "2a11f7d1",
   "metadata": {},
   "source": [
    "## My Jupyter Notebook on IBM Watson Studio "
   ]
  },
  {
   "cell_type": "markdown",
   "id": "5d5e4dc9",
   "metadata": {},
   "source": [
    "## My name is Amarachi\n",
    "## I am currently a student and working towards being a data scientist"
   ]
  },
  {
   "cell_type": "markdown",
   "id": "0c93590a",
   "metadata": {},
   "source": [
    "## I am interested in data science because of how versatile it is and also how it opens you up to trying different programs which will add a boost to your career."
   ]
  },
  {
   "cell_type": "markdown",
   "id": "4b90b263",
   "metadata": {},
   "source": [
    "## The following code will display date and time "
   ]
  },
  {
   "cell_type": "code",
   "execution_count": 1,
   "id": "52a76215",
   "metadata": {},
   "outputs": [
    {
     "name": "stdout",
     "output_type": "stream",
     "text": [
      "Today's Date and Time is  2022-12-22 18:21:34.586439\n"
     ]
    }
   ],
   "source": [
    "import datetime \n",
    "message = \"Today's Date and Time is \" \n",
    "print (message , datetime.datetime.now() )"
   ]
  },
  {
   "cell_type": "code",
   "execution_count": null,
   "id": "cb8aea93",
   "metadata": {},
   "outputs": [],
   "source": []
  }
 ],
 "metadata": {
  "kernelspec": {
   "display_name": "Python 3 (ipykernel)",
   "language": "python",
   "name": "python3"
  },
  "language_info": {
   "codemirror_mode": {
    "name": "ipython",
    "version": 3
   },
   "file_extension": ".py",
   "mimetype": "text/x-python",
   "name": "python",
   "nbconvert_exporter": "python",
   "pygments_lexer": "ipython3",
   "version": "3.9.7"
  }
 },
 "nbformat": 4,
 "nbformat_minor": 5
}
